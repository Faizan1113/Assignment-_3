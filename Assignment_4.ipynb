{
 "cells": [
  {
   "cell_type": "markdown",
   "id": "f2a7a6c5-a25c-48a1-a98b-5e6b075ac9c6",
   "metadata": {},
   "source": [
    "Question : 1"
   ]
  },
  {
   "cell_type": "markdown",
   "id": "46064a7a-7b89-4ef7-9176-ec2fa296cc6c",
   "metadata": {},
   "source": [
    "In object-oriented programming (OOP), class is a blueprint for creating objects, while object is an instance of a class.\n",
    "A class defines the characteristics and behaviour of a objects , while object represents specific instance of that class"
   ]
  },
  {
   "cell_type": "code",
   "execution_count": 18,
   "id": "61065ddb-5c2b-4d4b-b5d6-248c51568680",
   "metadata": {},
   "outputs": [],
   "source": [
    "class student_marks :\n",
    "    def __init__ (self, std_10_perc , std_12_perc ,graduation_perc) :\n",
    "        self.std_10 = std_10_perc\n",
    "        self.std_12 = std_12_perc\n",
    "        self.graduation_perc = graduation_perc\n",
    "    def student_details (self) :\n",
    "        return self.std_10 , self.std_12 , self.graduation_perc"
   ]
  },
  {
   "cell_type": "code",
   "execution_count": 19,
   "id": "7a648ded-8f04-43f0-8029-8141c31b8eaa",
   "metadata": {},
   "outputs": [],
   "source": [
    "Faiz = student_marks(79,76,80)"
   ]
  },
  {
   "cell_type": "code",
   "execution_count": 20,
   "id": "03eb9fd1-62af-4413-adb3-871f0a366a09",
   "metadata": {},
   "outputs": [
    {
     "data": {
      "text/plain": [
       "(79, 76, 80)"
      ]
     },
     "execution_count": 20,
     "metadata": {},
     "output_type": "execute_result"
    }
   ],
   "source": [
    "Faiz.student_details()"
   ]
  },
  {
   "cell_type": "markdown",
   "id": "898df686-7073-4695-b80c-c33fe1a206ce",
   "metadata": {},
   "source": [
    "Here, \"student_marks\" is a class and \"Faiz\" is the object or instance of the class"
   ]
  },
  {
   "cell_type": "markdown",
   "id": "1c4fe85c-075e-4f26-8a0b-de39f4b8fcc5",
   "metadata": {},
   "source": [
    "Question :- 2"
   ]
  },
  {
   "cell_type": "markdown",
   "id": "8ff95c14-50c3-4a57-a1c2-7e3ff885b020",
   "metadata": {},
   "source": [
    "Four piller of OOps :-\n",
    "    1. Encapsulation\n",
    "    2. Inheritance\n",
    "    3. Polymorphism\n",
    "    4. Abstractions"
   ]
  },
  {
   "cell_type": "markdown",
   "id": "fc1fde16-5e17-4ec1-bc15-ae56df1956ed",
   "metadata": {},
   "source": [
    "Question :- 3"
   ]
  },
  {
   "cell_type": "markdown",
   "id": "2011163c-3296-42f0-86d3-ca8ecf71b9f3",
   "metadata": {},
   "source": [
    "The __init__() function is used in object-oriented programming to initialize the state of an object when it is created from a class. It is a special method that gets automatically called when an object is instantiated, allowing you to set initial attribute values or perform other necessary setup tasks.\n",
    " __init__() function is used to initialize the attributes of an object when it is created from a class, allowing us to provide initial values and set up the object's state."
   ]
  },
  {
   "cell_type": "code",
   "execution_count": 1,
   "id": "d2fbe8ce-2b23-46e2-9913-c674f08591f4",
   "metadata": {},
   "outputs": [
    {
     "name": "stdout",
     "output_type": "stream",
     "text": [
      "Hi, my name is John and I am 25 years old.\n"
     ]
    }
   ],
   "source": [
    "class Person:\n",
    "    def __init__(self, name, age):\n",
    "        self.name = name\n",
    "        self.age = age\n",
    "\n",
    "    def introduce(self):\n",
    "        print(f\"Hi, my name is {self.name} and I am {self.age} years old.\")\n",
    "\n",
    "\n",
    "john = Person(\"John\", 25)\n",
    "\n",
    "\n",
    "\n",
    "john.introduce()\n"
   ]
  },
  {
   "cell_type": "markdown",
   "id": "32a115d3-3be1-4e55-9491-df39a39df356",
   "metadata": {},
   "source": [
    "Question :- 4"
   ]
  },
  {
   "cell_type": "markdown",
   "id": "8f06b524-ffd8-42ad-ba9c-ebd7bea165ae",
   "metadata": {},
   "source": [
    "Self is not reserve keyword , instead of that we can use any word .In object-oriented programming (OOP), the self keyword is used to refer to the instance of a class within the class's methods. It is a convention in Python to use self as the first parameter in the method definitions of a class.self is used in OOP to refer to the instance of a class within its methods, enabling access to instance variables, distinguishing between instance and local variables, facilitating method invocation, and creating new instances based on existing ones."
   ]
  },
  {
   "cell_type": "markdown",
   "id": "a5a35950-1496-4e52-a5bc-04aab488086b",
   "metadata": {},
   "source": [
    "Question :- 5"
   ]
  },
  {
   "cell_type": "markdown",
   "id": "0733bf23-eed6-4bee-ba4f-0899130f3efe",
   "metadata": {},
   "source": [
    "Inheritance is a concept in object-oriented programming (OOP) that allows a class to inherit properties and behaviors from another class. The class being inherited from is called the base class or superclass, and the class inheriting is called the derived class or subclass. Inheritance promotes code reuse and enables the creation of hierarchical relationships between classes."
   ]
  },
  {
   "cell_type": "markdown",
   "id": "848a3972-fb21-4dc1-b8e9-40c888ad531e",
   "metadata": {},
   "source": [
    "Single inheritance :-\n"
   ]
  },
  {
   "cell_type": "code",
   "execution_count": 2,
   "id": "d4334135-eb3d-43f2-a6e6-cd82cb680c7e",
   "metadata": {},
   "outputs": [
    {
     "name": "stdout",
     "output_type": "stream",
     "text": [
      "The animal is eating...\n",
      "The dog is barking...\n"
     ]
    }
   ],
   "source": [
    "class Animal:\n",
    "    def eat(self):\n",
    "        print(\"The animal is eating...\")\n",
    "\n",
    "class Dog(Animal):\n",
    "    def bark(self):\n",
    "        print(\"The dog is barking...\")\n",
    "\n",
    "\n",
    "dog = Dog()\n",
    "dog.eat()  \n",
    "dog.bark()\n"
   ]
  },
  {
   "cell_type": "markdown",
   "id": "38f8a00c-db50-4450-b393-42b059e6f8a8",
   "metadata": {},
   "source": [
    "Multiple inheritance :-"
   ]
  },
  {
   "cell_type": "code",
   "execution_count": 4,
   "id": "aa88eb21-7a7b-40fc-b0dd-ba43bd765f01",
   "metadata": {},
   "outputs": [
    {
     "name": "stdout",
     "output_type": "stream",
     "text": [
      "The flyer is flying...\n",
      "The swimmer is swimming...\n",
      "The duck is quacking...\n"
     ]
    }
   ],
   "source": [
    "class Flyer:\n",
    "    def fly(self):\n",
    "        print(\"The flyer is flying...\")\n",
    "\n",
    "class Swimmer:\n",
    "    def swim(self):\n",
    "        print(\"The swimmer is swimming...\")\n",
    "\n",
    "class Duck(Flyer, Swimmer):\n",
    "    def quack(self):\n",
    "        print(\"The duck is quacking...\")\n",
    "\n",
    "\n",
    "duck = Duck()\n",
    "duck.fly()   \n",
    "duck.swim() \n",
    "duck.quack()\n"
   ]
  },
  {
   "cell_type": "markdown",
   "id": "bcde601f-7a79-4fd1-aa57-c5e2478a851d",
   "metadata": {},
   "source": [
    "Multilevel Inheritance"
   ]
  },
  {
   "cell_type": "code",
   "execution_count": 20,
   "id": "3fe4f101-ce35-453f-9e5d-377a03ef6977",
   "metadata": {},
   "outputs": [],
   "source": [
    "class vehicle :\n",
    "    def __init__ (self , condition , model, year , company):\n",
    "        self.condition = condition\n",
    "        self.model = model\n",
    "        self.year = year\n",
    "        self.company = company\n",
    "    \n",
    "    def vehicle_info (self):\n",
    "        return self.condition , self.model , self.year , self.company\n",
    "\n",
    "class car(vehicle) :\n",
    "    def __init__ (self, condition , model, year , company , fuel_type  ):\n",
    "        super().__init__(condition , model, year , company )\n",
    "        self.fuel_type= fuel_type\n",
    "    \n",
    "        \n",
    "    def vehicle_info (self):\n",
    "        return super().vehicle_info() ,self.fuel_type\n",
    "        \n",
    "    \n",
    "class electric_car(car):\n",
    "    def __init__(self , condition , model, year , company ,battery_capacity ):\n",
    "        super().__init__(condition , model, year , company )\n",
    "        self.battery_capacity = battery_capacity\n",
    "    \n",
    "    def vehicle_info(self):\n",
    "        return super().vehicle_info() ,self.battery_capacity\n",
    "        \n",
    "\n",
    "class bike(vehicle) :\n",
    "    def __init__(self , condition , model, year , company , bike_type   ):\n",
    "        super().__init__(condition , model, year , company )\n",
    "        self.bike_type = bike_type\n",
    "        \n",
    "    def vehicle_info(self):\n",
    "        return super().vehicle_info() ,self.bike_type\n",
    "        \n",
    "        \n",
    "    \n",
    "        "
   ]
  },
  {
   "cell_type": "code",
   "execution_count": 21,
   "id": "c058deba-2eae-40bd-959d-9fb8993ce375",
   "metadata": {},
   "outputs": [],
   "source": [
    "car = car(\"80%\" , \"verna\", 2019, \"Toyota\" , \"petrol\")\n"
   ]
  },
  {
   "cell_type": "code",
   "execution_count": 22,
   "id": "912e461f-e5d4-4cb0-b269-4072955742a6",
   "metadata": {},
   "outputs": [
    {
     "data": {
      "text/plain": [
       "(('80%', 'verna', 2019, 'Toyota'), 'petrol')"
      ]
     },
     "execution_count": 22,
     "metadata": {},
     "output_type": "execute_result"
    }
   ],
   "source": [
    "car.vehicle_info()"
   ]
  },
  {
   "cell_type": "markdown",
   "id": "77c6fa50-6ef7-47d5-86ef-a6176267a202",
   "metadata": {},
   "source": [
    "Hierarchical Inheritance :-"
   ]
  },
  {
   "cell_type": "code",
   "execution_count": 24,
   "id": "9553ee69-18dd-4471-803e-4541c240b09b",
   "metadata": {},
   "outputs": [],
   "source": [
    "class Animal:\n",
    "    def eat(self):\n",
    "        return \"Eating...\"\n",
    "\n",
    "class Cat(Animal):\n",
    "    def meow(self):\n",
    "        return \"Meow!\"\n",
    "\n",
    "class Dog(Animal):\n",
    "    def bark(self):\n",
    "        return \"Woof!\""
   ]
  },
  {
   "cell_type": "code",
   "execution_count": 28,
   "id": "fb781ac6-e014-48e8-bf92-bfa4ddc8498c",
   "metadata": {},
   "outputs": [],
   "source": [
    "dog = Dog()"
   ]
  },
  {
   "cell_type": "code",
   "execution_count": 29,
   "id": "3b85da03-3603-45bc-9c34-e7efe255eac6",
   "metadata": {},
   "outputs": [
    {
     "data": {
      "text/plain": [
       "'Woof!'"
      ]
     },
     "execution_count": 29,
     "metadata": {},
     "output_type": "execute_result"
    }
   ],
   "source": [
    "dog.bark()"
   ]
  },
  {
   "cell_type": "code",
   "execution_count": null,
   "id": "0d3c15bd-450d-48ad-a9c8-a96a3284af2f",
   "metadata": {},
   "outputs": [],
   "source": []
  }
 ],
 "metadata": {
  "kernelspec": {
   "display_name": "Python 3 (ipykernel)",
   "language": "python",
   "name": "python3"
  },
  "language_info": {
   "codemirror_mode": {
    "name": "ipython",
    "version": 3
   },
   "file_extension": ".py",
   "mimetype": "text/x-python",
   "name": "python",
   "nbconvert_exporter": "python",
   "pygments_lexer": "ipython3",
   "version": "3.10.8"
  }
 },
 "nbformat": 4,
 "nbformat_minor": 5
}
